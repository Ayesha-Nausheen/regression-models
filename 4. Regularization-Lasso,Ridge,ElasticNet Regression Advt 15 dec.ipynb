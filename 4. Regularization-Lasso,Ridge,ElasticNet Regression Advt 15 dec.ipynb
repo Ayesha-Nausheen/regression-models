{
 "cells": [
  {
   "cell_type": "markdown",
   "id": "5d3427ff",
   "metadata": {},
   "source": [
    "# Step - 1: Business Problem Understanding\n",
    "- Indentify relationship in advertising channels and in sales?"
   ]
  },
  {
   "cell_type": "code",
   "execution_count": 1,
   "id": "906126f2",
   "metadata": {},
   "outputs": [],
   "source": [
    "import numpy as np\n",
    "import pandas as pd\n",
    "import matplotlib.pyplot as plt\n",
    "%matplotlib inline\n",
    "import seaborn as sns"
   ]
  },
  {
   "cell_type": "code",
   "execution_count": 2,
   "id": "1078787c",
   "metadata": {},
   "outputs": [
    {
     "data": {
      "text/html": [
       "<div>\n",
       "<style scoped>\n",
       "    .dataframe tbody tr th:only-of-type {\n",
       "        vertical-align: middle;\n",
       "    }\n",
       "\n",
       "    .dataframe tbody tr th {\n",
       "        vertical-align: top;\n",
       "    }\n",
       "\n",
       "    .dataframe thead th {\n",
       "        text-align: right;\n",
       "    }\n",
       "</style>\n",
       "<table border=\"1\" class=\"dataframe\">\n",
       "  <thead>\n",
       "    <tr style=\"text-align: right;\">\n",
       "      <th></th>\n",
       "      <th>TV</th>\n",
       "      <th>radio</th>\n",
       "      <th>newspaper</th>\n",
       "      <th>sales</th>\n",
       "    </tr>\n",
       "  </thead>\n",
       "  <tbody>\n",
       "    <tr>\n",
       "      <th>0</th>\n",
       "      <td>230100</td>\n",
       "      <td>37800</td>\n",
       "      <td>69200</td>\n",
       "      <td>22100</td>\n",
       "    </tr>\n",
       "    <tr>\n",
       "      <th>1</th>\n",
       "      <td>44500</td>\n",
       "      <td>39300</td>\n",
       "      <td>45100</td>\n",
       "      <td>10400</td>\n",
       "    </tr>\n",
       "    <tr>\n",
       "      <th>2</th>\n",
       "      <td>17200</td>\n",
       "      <td>45900</td>\n",
       "      <td>69300</td>\n",
       "      <td>9300</td>\n",
       "    </tr>\n",
       "    <tr>\n",
       "      <th>3</th>\n",
       "      <td>151500</td>\n",
       "      <td>41300</td>\n",
       "      <td>58500</td>\n",
       "      <td>18500</td>\n",
       "    </tr>\n",
       "    <tr>\n",
       "      <th>4</th>\n",
       "      <td>180800</td>\n",
       "      <td>10800</td>\n",
       "      <td>58400</td>\n",
       "      <td>12900</td>\n",
       "    </tr>\n",
       "  </tbody>\n",
       "</table>\n",
       "</div>"
      ],
      "text/plain": [
       "       TV  radio  newspaper  sales\n",
       "0  230100  37800      69200  22100\n",
       "1   44500  39300      45100  10400\n",
       "2   17200  45900      69300   9300\n",
       "3  151500  41300      58500  18500\n",
       "4  180800  10800      58400  12900"
      ]
     },
     "execution_count": 2,
     "metadata": {},
     "output_type": "execute_result"
    }
   ],
   "source": [
    "df=pd.read_csv('Advertising.csv')\n",
    "df.head()"
   ]
  },
  {
   "cell_type": "code",
   "execution_count": 3,
   "id": "51072c22",
   "metadata": {},
   "outputs": [
    {
     "name": "stdout",
     "output_type": "stream",
     "text": [
      "<class 'pandas.core.frame.DataFrame'>\n",
      "RangeIndex: 200 entries, 0 to 199\n",
      "Data columns (total 4 columns):\n",
      " #   Column     Non-Null Count  Dtype\n",
      "---  ------     --------------  -----\n",
      " 0   TV         200 non-null    int64\n",
      " 1   radio      200 non-null    int64\n",
      " 2   newspaper  200 non-null    int64\n",
      " 3   sales      200 non-null    int64\n",
      "dtypes: int64(4)\n",
      "memory usage: 6.4 KB\n"
     ]
    }
   ],
   "source": [
    "df.info()"
   ]
  },
  {
   "cell_type": "markdown",
   "id": "beb45cb4",
   "metadata": {},
   "source": [
    "# Step - 2: Data Understanding\n",
    "## 2.1: Data Collection"
   ]
  },
  {
   "cell_type": "code",
   "execution_count": 4,
   "id": "3be82939",
   "metadata": {},
   "outputs": [
    {
     "data": {
      "text/html": [
       "<div>\n",
       "<style scoped>\n",
       "    .dataframe tbody tr th:only-of-type {\n",
       "        vertical-align: middle;\n",
       "    }\n",
       "\n",
       "    .dataframe tbody tr th {\n",
       "        vertical-align: top;\n",
       "    }\n",
       "\n",
       "    .dataframe thead th {\n",
       "        text-align: right;\n",
       "    }\n",
       "</style>\n",
       "<table border=\"1\" class=\"dataframe\">\n",
       "  <thead>\n",
       "    <tr style=\"text-align: right;\">\n",
       "      <th></th>\n",
       "      <th>TV</th>\n",
       "      <th>radio</th>\n",
       "      <th>newspaper</th>\n",
       "      <th>sales</th>\n",
       "    </tr>\n",
       "  </thead>\n",
       "  <tbody>\n",
       "    <tr>\n",
       "      <th>count</th>\n",
       "      <td>200.000000</td>\n",
       "      <td>200.000000</td>\n",
       "      <td>200.000000</td>\n",
       "      <td>200.000000</td>\n",
       "    </tr>\n",
       "    <tr>\n",
       "      <th>mean</th>\n",
       "      <td>147042.500000</td>\n",
       "      <td>23264.000000</td>\n",
       "      <td>30554.000000</td>\n",
       "      <td>14022.500000</td>\n",
       "    </tr>\n",
       "    <tr>\n",
       "      <th>std</th>\n",
       "      <td>85854.236315</td>\n",
       "      <td>14846.809176</td>\n",
       "      <td>21778.620839</td>\n",
       "      <td>5217.456566</td>\n",
       "    </tr>\n",
       "    <tr>\n",
       "      <th>min</th>\n",
       "      <td>700.000000</td>\n",
       "      <td>0.000000</td>\n",
       "      <td>300.000000</td>\n",
       "      <td>1600.000000</td>\n",
       "    </tr>\n",
       "    <tr>\n",
       "      <th>25%</th>\n",
       "      <td>74375.000000</td>\n",
       "      <td>9975.000000</td>\n",
       "      <td>12750.000000</td>\n",
       "      <td>10375.000000</td>\n",
       "    </tr>\n",
       "    <tr>\n",
       "      <th>50%</th>\n",
       "      <td>149750.000000</td>\n",
       "      <td>22900.000000</td>\n",
       "      <td>25750.000000</td>\n",
       "      <td>12900.000000</td>\n",
       "    </tr>\n",
       "    <tr>\n",
       "      <th>75%</th>\n",
       "      <td>218825.000000</td>\n",
       "      <td>36525.000000</td>\n",
       "      <td>45100.000000</td>\n",
       "      <td>17400.000000</td>\n",
       "    </tr>\n",
       "    <tr>\n",
       "      <th>max</th>\n",
       "      <td>296400.000000</td>\n",
       "      <td>49600.000000</td>\n",
       "      <td>114000.000000</td>\n",
       "      <td>27000.000000</td>\n",
       "    </tr>\n",
       "  </tbody>\n",
       "</table>\n",
       "</div>"
      ],
      "text/plain": [
       "                  TV         radio      newspaper         sales\n",
       "count     200.000000    200.000000     200.000000    200.000000\n",
       "mean   147042.500000  23264.000000   30554.000000  14022.500000\n",
       "std     85854.236315  14846.809176   21778.620839   5217.456566\n",
       "min       700.000000      0.000000     300.000000   1600.000000\n",
       "25%     74375.000000   9975.000000   12750.000000  10375.000000\n",
       "50%    149750.000000  22900.000000   25750.000000  12900.000000\n",
       "75%    218825.000000  36525.000000   45100.000000  17400.000000\n",
       "max    296400.000000  49600.000000  114000.000000  27000.000000"
      ]
     },
     "execution_count": 4,
     "metadata": {},
     "output_type": "execute_result"
    }
   ],
   "source": [
    "df.describe()"
   ]
  },
  {
   "cell_type": "code",
   "execution_count": 5,
   "id": "98344f22",
   "metadata": {},
   "outputs": [
    {
     "data": {
      "text/html": [
       "<div>\n",
       "<style scoped>\n",
       "    .dataframe tbody tr th:only-of-type {\n",
       "        vertical-align: middle;\n",
       "    }\n",
       "\n",
       "    .dataframe tbody tr th {\n",
       "        vertical-align: top;\n",
       "    }\n",
       "\n",
       "    .dataframe thead th {\n",
       "        text-align: right;\n",
       "    }\n",
       "</style>\n",
       "<table border=\"1\" class=\"dataframe\">\n",
       "  <thead>\n",
       "    <tr style=\"text-align: right;\">\n",
       "      <th></th>\n",
       "      <th>TV</th>\n",
       "      <th>radio</th>\n",
       "      <th>newspaper</th>\n",
       "      <th>sales</th>\n",
       "    </tr>\n",
       "  </thead>\n",
       "  <tbody>\n",
       "    <tr>\n",
       "      <th>TV</th>\n",
       "      <td>1.000000</td>\n",
       "      <td>0.054809</td>\n",
       "      <td>0.056648</td>\n",
       "      <td>0.782224</td>\n",
       "    </tr>\n",
       "    <tr>\n",
       "      <th>radio</th>\n",
       "      <td>0.054809</td>\n",
       "      <td>1.000000</td>\n",
       "      <td>0.354104</td>\n",
       "      <td>0.576223</td>\n",
       "    </tr>\n",
       "    <tr>\n",
       "      <th>newspaper</th>\n",
       "      <td>0.056648</td>\n",
       "      <td>0.354104</td>\n",
       "      <td>1.000000</td>\n",
       "      <td>0.228299</td>\n",
       "    </tr>\n",
       "    <tr>\n",
       "      <th>sales</th>\n",
       "      <td>0.782224</td>\n",
       "      <td>0.576223</td>\n",
       "      <td>0.228299</td>\n",
       "      <td>1.000000</td>\n",
       "    </tr>\n",
       "  </tbody>\n",
       "</table>\n",
       "</div>"
      ],
      "text/plain": [
       "                 TV     radio  newspaper     sales\n",
       "TV         1.000000  0.054809   0.056648  0.782224\n",
       "radio      0.054809  1.000000   0.354104  0.576223\n",
       "newspaper  0.056648  0.354104   1.000000  0.228299\n",
       "sales      0.782224  0.576223   0.228299  1.000000"
      ]
     },
     "execution_count": 5,
     "metadata": {},
     "output_type": "execute_result"
    }
   ],
   "source": [
    "df.corr()"
   ]
  },
  {
   "cell_type": "markdown",
   "id": "982b42df",
   "metadata": {},
   "source": [
    "## 3.4: Train-Test Split"
   ]
  },
  {
   "cell_type": "code",
   "execution_count": 6,
   "id": "0ac3ce61",
   "metadata": {},
   "outputs": [],
   "source": [
    "X=df[['TV','radio','newspaper']]\n",
    "y=df['sales']"
   ]
  },
  {
   "cell_type": "code",
   "execution_count": 7,
   "id": "a0445baa",
   "metadata": {},
   "outputs": [],
   "source": [
    "from sklearn.model_selection import train_test_split\n",
    "X_train,X_test,y_train,y_test=train_test_split(X,y,test_size=0.3,random_state=42)"
   ]
  },
  {
   "cell_type": "code",
   "execution_count": 8,
   "id": "a943eb34",
   "metadata": {},
   "outputs": [
    {
     "data": {
      "text/html": [
       "<div>\n",
       "<style scoped>\n",
       "    .dataframe tbody tr th:only-of-type {\n",
       "        vertical-align: middle;\n",
       "    }\n",
       "\n",
       "    .dataframe tbody tr th {\n",
       "        vertical-align: top;\n",
       "    }\n",
       "\n",
       "    .dataframe thead th {\n",
       "        text-align: right;\n",
       "    }\n",
       "</style>\n",
       "<table border=\"1\" class=\"dataframe\">\n",
       "  <thead>\n",
       "    <tr style=\"text-align: right;\">\n",
       "      <th></th>\n",
       "      <th>TV</th>\n",
       "      <th>radio</th>\n",
       "      <th>newspaper</th>\n",
       "    </tr>\n",
       "  </thead>\n",
       "  <tbody>\n",
       "    <tr>\n",
       "      <th>169</th>\n",
       "      <td>284300</td>\n",
       "      <td>10600</td>\n",
       "      <td>6400</td>\n",
       "    </tr>\n",
       "    <tr>\n",
       "      <th>97</th>\n",
       "      <td>184900</td>\n",
       "      <td>21000</td>\n",
       "      <td>22000</td>\n",
       "    </tr>\n",
       "    <tr>\n",
       "      <th>31</th>\n",
       "      <td>112900</td>\n",
       "      <td>17400</td>\n",
       "      <td>38600</td>\n",
       "    </tr>\n",
       "    <tr>\n",
       "      <th>12</th>\n",
       "      <td>23800</td>\n",
       "      <td>35100</td>\n",
       "      <td>65900</td>\n",
       "    </tr>\n",
       "    <tr>\n",
       "      <th>35</th>\n",
       "      <td>290700</td>\n",
       "      <td>4100</td>\n",
       "      <td>8500</td>\n",
       "    </tr>\n",
       "    <tr>\n",
       "      <th>...</th>\n",
       "      <td>...</td>\n",
       "      <td>...</td>\n",
       "      <td>...</td>\n",
       "    </tr>\n",
       "    <tr>\n",
       "      <th>106</th>\n",
       "      <td>25000</td>\n",
       "      <td>11000</td>\n",
       "      <td>29700</td>\n",
       "    </tr>\n",
       "    <tr>\n",
       "      <th>14</th>\n",
       "      <td>204100</td>\n",
       "      <td>32900</td>\n",
       "      <td>46000</td>\n",
       "    </tr>\n",
       "    <tr>\n",
       "      <th>92</th>\n",
       "      <td>217700</td>\n",
       "      <td>33500</td>\n",
       "      <td>59000</td>\n",
       "    </tr>\n",
       "    <tr>\n",
       "      <th>179</th>\n",
       "      <td>165600</td>\n",
       "      <td>10000</td>\n",
       "      <td>17600</td>\n",
       "    </tr>\n",
       "    <tr>\n",
       "      <th>102</th>\n",
       "      <td>280200</td>\n",
       "      <td>10100</td>\n",
       "      <td>21400</td>\n",
       "    </tr>\n",
       "  </tbody>\n",
       "</table>\n",
       "<p>140 rows × 3 columns</p>\n",
       "</div>"
      ],
      "text/plain": [
       "         TV  radio  newspaper\n",
       "169  284300  10600       6400\n",
       "97   184900  21000      22000\n",
       "31   112900  17400      38600\n",
       "12    23800  35100      65900\n",
       "35   290700   4100       8500\n",
       "..      ...    ...        ...\n",
       "106   25000  11000      29700\n",
       "14   204100  32900      46000\n",
       "92   217700  33500      59000\n",
       "179  165600  10000      17600\n",
       "102  280200  10100      21400\n",
       "\n",
       "[140 rows x 3 columns]"
      ]
     },
     "execution_count": 8,
     "metadata": {},
     "output_type": "execute_result"
    }
   ],
   "source": [
    "X_train"
   ]
  },
  {
   "cell_type": "markdown",
   "id": "36779f69",
   "metadata": {},
   "source": [
    "# Modelling - Lasso Regression\n",
    "Modelling with default parameters"
   ]
  },
  {
   "cell_type": "code",
   "execution_count": 9,
   "id": "ac8687aa",
   "metadata": {},
   "outputs": [
    {
     "data": {
      "text/plain": [
       "Lasso()"
      ]
     },
     "execution_count": 9,
     "metadata": {},
     "output_type": "execute_result"
    }
   ],
   "source": [
    "from sklearn.linear_model import Lasso\n",
    "lasso_base=Lasso()\n",
    "lasso_base.fit(X_train,y_train)"
   ]
  },
  {
   "cell_type": "code",
   "execution_count": 10,
   "id": "c69a7d81",
   "metadata": {},
   "outputs": [
    {
     "name": "stdout",
     "output_type": "stream",
     "text": [
      "Intercept:  2708.9492419105372\n",
      "coefficients:  [0.04405928 0.19928749 0.00688245]\n"
     ]
    }
   ],
   "source": [
    "print('Intercept: ',lasso_base.intercept_)\n",
    "print('coefficients: ',lasso_base.coef_)"
   ]
  },
  {
   "cell_type": "code",
   "execution_count": 11,
   "id": "b63f3a53",
   "metadata": {},
   "outputs": [],
   "source": [
    "test_predictions=lasso_base.predict(X_test)\n",
    "train_predictions=lasso_base.predict(X_train)"
   ]
  },
  {
   "cell_type": "code",
   "execution_count": 12,
   "id": "7bf47e4b",
   "metadata": {},
   "outputs": [
    {
     "name": "stdout",
     "output_type": "stream",
     "text": [
      "0.9055159502227751\n",
      "0.8609466552563986\n",
      "0.8871063511014737\n"
     ]
    }
   ],
   "source": [
    "print(lasso_base.score(X_train,y_train))\n",
    "print(lasso_base.score(X_test,y_test))\n",
    "from sklearn.model_selection import cross_val_score\n",
    "scores=cross_val_score(lasso_base,X,y,cv=5)\n",
    "print(scores.mean())"
   ]
  },
  {
   "cell_type": "markdown",
   "id": "4af04afa",
   "metadata": {},
   "source": [
    "## Hyperparameter Tuning"
   ]
  },
  {
   "cell_type": "code",
   "execution_count": 13,
   "id": "ab801ed6",
   "metadata": {},
   "outputs": [],
   "source": [
    "from sklearn.model_selection import GridSearchCV\n",
    "estimator=Lasso()\n",
    "param_grid={'alpha':[0.1,0.2,0.5,0.7,1,2,5,10,100,1000]}"
   ]
  },
  {
   "cell_type": "code",
   "execution_count": 14,
   "id": "e35061df",
   "metadata": {},
   "outputs": [
    {
     "data": {
      "text/plain": [
       "{'alpha': 1000}"
      ]
     },
     "execution_count": 14,
     "metadata": {},
     "output_type": "execute_result"
    }
   ],
   "source": [
    "model_hp=GridSearchCV(estimator,param_grid,cv=5,scoring='r2')\n",
    "model_hp.fit(X_train,y_train)\n",
    "model_hp.best_params_"
   ]
  },
  {
   "cell_type": "markdown",
   "id": "f3834dbe",
   "metadata": {},
   "source": [
    "## Rebuilt Lasso Model using best hyperparameters"
   ]
  },
  {
   "cell_type": "code",
   "execution_count": 15,
   "id": "08caee32",
   "metadata": {},
   "outputs": [
    {
     "name": "stdout",
     "output_type": "stream",
     "text": [
      "Intercept:  2708.9492419105372\n",
      "coefficients:  [0.04405928 0.19928749 0.00688245]\n",
      "0.9055159502227751\n",
      "0.8609466552563986\n",
      "0.8871063511014737\n"
     ]
    }
   ],
   "source": [
    "from sklearn.linear_model import Lasso\n",
    "lasso_best=Lasso(alpha=1000)\n",
    "lasso_best.fit(X_train,y_train)\n",
    "\n",
    "print('Intercept: ',lasso_base.intercept_)\n",
    "print('coefficients: ',lasso_base.coef_)\n",
    "\n",
    "test_predictions=lasso_base.predict(X_test)\n",
    "train_predictions=lasso_base.predict(X_train)\n",
    "print(lasso_base.score(X_train,y_train))\n",
    "print(lasso_base.score(X_test,y_test))\n",
    "from sklearn.model_selection import cross_val_score\n",
    "scores=cross_val_score(lasso_base,X,y,cv=5)\n",
    "print(scores.mean())"
   ]
  },
  {
   "cell_type": "markdown",
   "id": "57aa17c9",
   "metadata": {},
   "source": [
    "# Ridge Regression\n",
    "- Modeling with default parameters"
   ]
  },
  {
   "cell_type": "code",
   "execution_count": 16,
   "id": "fc8f7119",
   "metadata": {},
   "outputs": [
    {
     "name": "stdout",
     "output_type": "stream",
     "text": [
      "train RMSE: 1948.5372043175976\n",
      "test RMSE: 1574.5968305905444\n"
     ]
    }
   ],
   "source": [
    "from sklearn.linear_model import Ridge\n",
    "ridge_model=Ridge()\n",
    "ridge_model.fit(X_train,y_train)\n",
    "\n",
    "train_predictions=ridge_model.predict(X_train)\n",
    "test_predictions=ridge_model.predict(X_test)\n",
    "\n",
    "from sklearn.metrics import mean_squared_error\n",
    "train_rmse=np.sqrt(mean_squared_error(y_test,test_predictions))\n",
    "test_rmse=np.sqrt(mean_squared_error(y_train,train_predictions))\n",
    "\n",
    "print('train RMSE:',train_rmse)\n",
    "print('test RMSE:',test_rmse)"
   ]
  },
  {
   "cell_type": "markdown",
   "id": "72278b1f",
   "metadata": {},
   "source": [
    "## Hyperparameter Tuning\n",
    "- Identifying the best alpha value for Ridge Regression"
   ]
  },
  {
   "cell_type": "code",
   "execution_count": 17,
   "id": "de0a2ef0",
   "metadata": {},
   "outputs": [
    {
     "data": {
      "text/plain": [
       "{'alpha': 10}"
      ]
     },
     "execution_count": 17,
     "metadata": {},
     "output_type": "execute_result"
    }
   ],
   "source": [
    "from sklearn.model_selection import GridSearchCV\n",
    "estimator=Ridge()\n",
    "param_grid={'alpha':list(range(1,11))}\n",
    "model_hp=GridSearchCV(estimator,param_grid,cv=5)\n",
    "model_hp.fit(X_train,y_train)\n",
    "model_hp.best_params_"
   ]
  },
  {
   "cell_type": "markdown",
   "id": "73306d94",
   "metadata": {},
   "source": [
    "## Rebuilt Ridge Model using best hyperparameters"
   ]
  },
  {
   "cell_type": "code",
   "execution_count": 18,
   "id": "897796e2",
   "metadata": {},
   "outputs": [
    {
     "name": "stdout",
     "output_type": "stream",
     "text": [
      "train RMSE: 1948.5372040742343\n",
      "test RMSE: 1574.5968305905444\n"
     ]
    }
   ],
   "source": [
    "from sklearn.linear_model import Ridge\n",
    "ridge_model=Ridge(alpha=10)\n",
    "ridge_model.fit(X_train,y_train)\n",
    "\n",
    "train_predictions=ridge_model.predict(X_train)\n",
    "test_predictions=ridge_model.predict(X_test)\n",
    "\n",
    "from sklearn.metrics import mean_squared_error\n",
    "train_rmse=np.sqrt(mean_squared_error(y_test,test_predictions))\n",
    "test_rmse=np.sqrt(mean_squared_error(y_train,train_predictions))\n",
    "\n",
    "print('train RMSE:',train_rmse)\n",
    "print('test RMSE:',test_rmse)"
   ]
  },
  {
   "cell_type": "markdown",
   "id": "036e3f2f",
   "metadata": {},
   "source": [
    "# Elasticnet Regression\n",
    "Modeling with default parameters"
   ]
  },
  {
   "cell_type": "code",
   "execution_count": 19,
   "id": "8fc1dbbd",
   "metadata": {},
   "outputs": [
    {
     "name": "stdout",
     "output_type": "stream",
     "text": [
      "train RMSE: 1948.5371869557355\n",
      "test RMSE: 1574.5968305905449\n"
     ]
    }
   ],
   "source": [
    "from sklearn.linear_model import ElasticNet\n",
    "enr_model=ElasticNet()\n",
    "enr_model.fit(X_train,y_train)\n",
    "\n",
    "test_predictions=enr_model.predict(X_test)\n",
    "train_predictions=enr_model.predict(X_train)\n",
    "\n",
    "from sklearn.metrics import mean_squared_error\n",
    "train_rmse=np.sqrt(mean_squared_error(y_test,test_predictions))\n",
    "test_rmse=np.sqrt(mean_squared_error(y_train,train_predictions))\n",
    "\n",
    "print('train RMSE:',train_rmse)\n",
    "print('test RMSE:',test_rmse)"
   ]
  },
  {
   "cell_type": "markdown",
   "id": "c8844b61",
   "metadata": {},
   "source": [
    "## Hyperparameter Tuning"
   ]
  },
  {
   "cell_type": "code",
   "execution_count": 20,
   "id": "51ea16ed",
   "metadata": {},
   "outputs": [
    {
     "data": {
      "text/plain": [
       "{'alpha': 10, 'l1_ratio': 1}"
      ]
     },
     "execution_count": 20,
     "metadata": {},
     "output_type": "execute_result"
    }
   ],
   "source": [
    "from sklearn.model_selection import GridSearchCV\n",
    "estimator=ElasticNet()\n",
    "param_grid={'alpha':[0.1,0.2,1,2,3,5,10],\n",
    "            'l1_ratio':[0.1,0.5,0.75,0.9,0.95,1]}\n",
    "enr_hp=GridSearchCV(estimator,param_grid,cv=5)\n",
    "enr_hp.fit(X_train,y_train)\n",
    "enr_hp.best_params_"
   ]
  },
  {
   "cell_type": "markdown",
   "id": "d57ffdd6",
   "metadata": {},
   "source": [
    "## Rebuilt ElasticNet Regression Model using best hyperparameters"
   ]
  },
  {
   "cell_type": "code",
   "execution_count": 21,
   "id": "c75e72e2",
   "metadata": {},
   "outputs": [
    {
     "name": "stdout",
     "output_type": "stream",
     "text": [
      "train RMSE: 1948.5368936334041\n",
      "test RMSE: 1574.5968305907172\n"
     ]
    }
   ],
   "source": [
    "from sklearn.linear_model import ElasticNet\n",
    "enr_model=ElasticNet(alpha=10, l1_ratio=1)\n",
    "enr_model.fit(X_train,y_train)\n",
    "\n",
    "test_predictions=enr_model.predict(X_test)\n",
    "train_predictions=enr_model.predict(X_train)\n",
    "\n",
    "from sklearn.metrics import mean_squared_error\n",
    "train_rmse=np.sqrt(mean_squared_error(y_test,test_predictions))\n",
    "test_rmse=np.sqrt(mean_squared_error(y_train,train_predictions))\n",
    "\n",
    "print('train RMSE:',train_rmse)\n",
    "print('test RMSE:',test_rmse)"
   ]
  }
 ],
 "metadata": {
  "kernelspec": {
   "display_name": "Python 3 (ipykernel)",
   "language": "python",
   "name": "python3"
  },
  "language_info": {
   "codemirror_mode": {
    "name": "ipython",
    "version": 3
   },
   "file_extension": ".py",
   "mimetype": "text/x-python",
   "name": "python",
   "nbconvert_exporter": "python",
   "pygments_lexer": "ipython3",
   "version": "3.9.13"
  }
 },
 "nbformat": 4,
 "nbformat_minor": 5
}
